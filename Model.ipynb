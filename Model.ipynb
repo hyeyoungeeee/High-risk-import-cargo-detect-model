{
 "cells": [
  {
   "cell_type": "code",
   "execution_count": 1,
   "id": "1f18ca5b",
   "metadata": {},
   "outputs": [],
   "source": [
    "import pickle\n",
    "import pandas as pd\n",
    "import numpy as np\n",
    "import matplotlib.pyplot as plt\n",
    "import seaborn as sns"
   ]
  },
  {
   "cell_type": "code",
   "execution_count": 2,
   "id": "b81bf2ef",
   "metadata": {},
   "outputs": [],
   "source": [
    "pd.options.display.max_rows = 9999\n",
    "pd.options.display.max_columns = 9999"
   ]
  },
  {
   "cell_type": "code",
   "execution_count": 3,
   "id": "3e6cf167",
   "metadata": {},
   "outputs": [],
   "source": [
    "data = pd.read_csv('train.csv')"
   ]
  },
  {
   "cell_type": "markdown",
   "id": "27672d1f",
   "metadata": {},
   "source": [
    "# 데이터 전처리"
   ]
  },
  {
   "cell_type": "code",
   "execution_count": 4,
   "id": "047864b3",
   "metadata": {},
   "outputs": [],
   "source": [
    "# 불필요한 변수 삭제\n",
    "del data['검사결과코드']\n",
    "del data['신고번호']\n",
    "del data['우범여부']\n"
   ]
  },
  {
   "cell_type": "code",
   "execution_count": 5,
   "id": "e37da86a",
   "metadata": {},
   "outputs": [],
   "source": [
    "data['신고일자']=pd.to_datetime(data['신고일자'])\n",
    "data['신고일자']=data['신고일자'].dt.day"
   ]
  },
  {
   "cell_type": "code",
   "execution_count": 6,
   "id": "ed0a9e92",
   "metadata": {},
   "outputs": [],
   "source": [
    "for i in data.index:\n",
    "    val = data.loc[i,'통관지세관부호'] #10, 13, 16, 20, 30, 40\n",
    "    if val != 10 and val != 13 and val != 16 and val != 16 and val != 20 and val != 30 and val != 40:\n",
    "        data.loc[i,'통관지세관부호'] = 55\n"
   ]
  },
  {
   "cell_type": "code",
   "execution_count": 7,
   "id": "1b36a4f5",
   "metadata": {},
   "outputs": [],
   "source": [
    "#4077006 이하 통일\n",
    "for i in data.index:\n",
    "    val = data.loc[i,'반입보세구역부호']\n",
    "    if val < 4077007:\n",
    "        data.loc[i,'반입보세구역부호'] = 4077006"
   ]
  },
  {
   "cell_type": "code",
   "execution_count": 8,
   "id": "92ae35eb",
   "metadata": {},
   "outputs": [],
   "source": [
    "data = data.fillna(0)"
   ]
  },
  {
   "cell_type": "code",
   "execution_count": 9,
   "id": "368011a5",
   "metadata": {},
   "outputs": [],
   "source": [
    "# 범주형 변수 지정\n",
    "categorical_columns = ['신고일자',  '통관지세관부호',\n",
    "       '신고인부호', '수입자부호', '해외거래처부호', '특송업체부호', '수입통관계획코드', \n",
    "       '수입신고구분코드', '수입거래구분코드', '관세율구분코드', '원산지국가코드',\n",
    "       '수입종류코드', '징수형태코드', \n",
    "       '운송수단유형코드', '반입보세구역부호', \n",
    "       'HS10단위부호', '적출국가코드']\n",
    "\n",
    "# object -> string\n",
    "for var in categorical_columns:\n",
    "    data[var] = data[var].astype(str)"
   ]
  },
  {
   "cell_type": "code",
   "execution_count": 10,
   "id": "74ecf867",
   "metadata": {},
   "outputs": [],
   "source": [
    "# 수치형 변수 지정\n",
    "numeric_columns = ['신고중량(KG)', '과세가격원화금액', '관세율', '핵심적발']\n",
    "\n",
    "# 수치형 변수를 자연로그로 변환\n",
    "for var in ['신고중량(KG)', '과세가격원화금액']:\n",
    "    data[var] = data[var].apply(lambda x: np.log1p(x))"
   ]
  },
  {
   "cell_type": "code",
   "execution_count": 11,
   "id": "0665fcfa",
   "metadata": {},
   "outputs": [],
   "source": [
    "#data shuffle\n",
    "data = data.sample(frac=1).reset_index(drop=True)"
   ]
  },
  {
   "cell_type": "code",
   "execution_count": 12,
   "id": "6b99d9cd",
   "metadata": {},
   "outputs": [],
   "source": [
    "#data split\n",
    "data_train = data.iloc[:int(len(data)*0.8), :]\n",
    "data_test = data.iloc[int(len(data)*0.8):, :]"
   ]
  },
  {
   "cell_type": "markdown",
   "id": "b5dc81ed",
   "metadata": {},
   "source": [
    "# Label Encoding"
   ]
  },
  {
   "cell_type": "code",
   "execution_count": 13,
   "id": "76407cf5",
   "metadata": {},
   "outputs": [
    {
     "name": "stderr",
     "output_type": "stream",
     "text": [
      "<ipython-input-13-b08daf6cf854>:8: SettingWithCopyWarning: \n",
      "A value is trying to be set on a copy of a slice from a DataFrame.\n",
      "Try using .loc[row_indexer,col_indexer] = value instead\n",
      "\n",
      "See the caveats in the documentation: https://pandas.pydata.org/pandas-docs/stable/user_guide/indexing.html#returning-a-view-versus-a-copy\n",
      "  data_train[var] = label_encoding_ref[var].transform(data_train[var])\n",
      "<ipython-input-13-b08daf6cf854>:11: SettingWithCopyWarning: \n",
      "A value is trying to be set on a copy of a slice from a DataFrame.\n",
      "Try using .loc[row_indexer,col_indexer] = value instead\n",
      "\n",
      "See the caveats in the documentation: https://pandas.pydata.org/pandas-docs/stable/user_guide/indexing.html#returning-a-view-versus-a-copy\n",
      "  data_test[var] = label_encoding_ref[var].fit_transform(data_test[var])\n"
     ]
    }
   ],
   "source": [
    "from sklearn.preprocessing import LabelEncoder\n",
    "\n",
    "label_encoding_ref = {}\n",
    "encoder = LabelEncoder()\n",
    "\n",
    "for var in categorical_columns:\n",
    "    label_encoding_ref[var] = encoder.fit(data_train[var])\n",
    "    data_train[var] = label_encoding_ref[var].transform(data_train[var])\n",
    "       \n",
    "for var in categorical_columns:\n",
    "    data_test[var] = label_encoding_ref[var].fit_transform(data_test[var])  \n",
    "    \n",
    "data_train.reset_index(drop=True, inplace=True)\n",
    "data_test.reset_index(drop=True, inplace=True)\n"
   ]
  },
  {
   "cell_type": "code",
   "execution_count": 14,
   "id": "79e93be6",
   "metadata": {},
   "outputs": [
    {
     "data": {
      "text/html": [
       "<div>\n",
       "<style scoped>\n",
       "    .dataframe tbody tr th:only-of-type {\n",
       "        vertical-align: middle;\n",
       "    }\n",
       "\n",
       "    .dataframe tbody tr th {\n",
       "        vertical-align: top;\n",
       "    }\n",
       "\n",
       "    .dataframe thead th {\n",
       "        text-align: right;\n",
       "    }\n",
       "</style>\n",
       "<table border=\"1\" class=\"dataframe\">\n",
       "  <thead>\n",
       "    <tr style=\"text-align: right;\">\n",
       "      <th></th>\n",
       "      <th>신고일자</th>\n",
       "      <th>통관지세관부호</th>\n",
       "      <th>신고인부호</th>\n",
       "      <th>수입자부호</th>\n",
       "      <th>해외거래처부호</th>\n",
       "      <th>특송업체부호</th>\n",
       "      <th>수입통관계획코드</th>\n",
       "      <th>수입신고구분코드</th>\n",
       "      <th>수입거래구분코드</th>\n",
       "      <th>수입종류코드</th>\n",
       "      <th>징수형태코드</th>\n",
       "      <th>신고중량(KG)</th>\n",
       "      <th>과세가격원화금액</th>\n",
       "      <th>운송수단유형코드</th>\n",
       "      <th>반입보세구역부호</th>\n",
       "      <th>HS10단위부호</th>\n",
       "      <th>적출국가코드</th>\n",
       "      <th>원산지국가코드</th>\n",
       "      <th>관세율구분코드</th>\n",
       "      <th>관세율</th>\n",
       "      <th>핵심적발</th>\n",
       "    </tr>\n",
       "  </thead>\n",
       "  <tbody>\n",
       "    <tr>\n",
       "      <th>0</th>\n",
       "      <td>17</td>\n",
       "      <td>5</td>\n",
       "      <td>587</td>\n",
       "      <td>1582</td>\n",
       "      <td>1902</td>\n",
       "      <td>0</td>\n",
       "      <td>1</td>\n",
       "      <td>1</td>\n",
       "      <td>23</td>\n",
       "      <td>5</td>\n",
       "      <td>1</td>\n",
       "      <td>8.243808</td>\n",
       "      <td>12.826391</td>\n",
       "      <td>3</td>\n",
       "      <td>41</td>\n",
       "      <td>75</td>\n",
       "      <td>11</td>\n",
       "      <td>13</td>\n",
       "      <td>0</td>\n",
       "      <td>8.0</td>\n",
       "      <td>1</td>\n",
       "    </tr>\n",
       "  </tbody>\n",
       "</table>\n",
       "</div>"
      ],
      "text/plain": [
       "   신고일자  통관지세관부호  신고인부호  수입자부호  해외거래처부호  특송업체부호  수입통관계획코드  수입신고구분코드  수입거래구분코드  \\\n",
       "0    17        5    587   1582     1902       0         1         1        23   \n",
       "\n",
       "   수입종류코드  징수형태코드  신고중량(KG)   과세가격원화금액  운송수단유형코드  반입보세구역부호  HS10단위부호  적출국가코드  \\\n",
       "0       5       1  8.243808  12.826391         3        41        75      11   \n",
       "\n",
       "   원산지국가코드  관세율구분코드  관세율  핵심적발  \n",
       "0       13        0  8.0     1  "
      ]
     },
     "execution_count": 14,
     "metadata": {},
     "output_type": "execute_result"
    }
   ],
   "source": [
    "data_train.head(1)"
   ]
  },
  {
   "cell_type": "code",
   "execution_count": 15,
   "id": "42a97591",
   "metadata": {},
   "outputs": [
    {
     "name": "stdout",
     "output_type": "stream",
     "text": [
      "(61469, 21) (15368, 21)\n"
     ]
    }
   ],
   "source": [
    "print(data_train.shape, data_test.shape)"
   ]
  },
  {
   "cell_type": "code",
   "execution_count": 16,
   "id": "b97275af",
   "metadata": {},
   "outputs": [],
   "source": [
    "# 모델예측 대상인 핵심적발 변수 분리\n",
    "data_train_y = data_train.pop('핵심적발')\n",
    "data_test_y = data_test.pop('핵심적발')"
   ]
  },
  {
   "cell_type": "code",
   "execution_count": 17,
   "id": "407bf485",
   "metadata": {
    "scrolled": true
   },
   "outputs": [
    {
     "name": "stdout",
     "output_type": "stream",
     "text": [
      "훈련  데이터 비우범건수: 47450, 훈련  데이터 우범건수: 6778, 훈련  데이터 핵심건수: 7241\n",
      "테스트데이터 비우범건수: 11815, 테스트데이터 우범건수: 1745, 테스트  데이터 핵심건수: 1808\n"
     ]
    }
   ],
   "source": [
    "# 훈련데이터와 테스트데이터에서 우범건수 비교\n",
    "from collections import Counter\n",
    "cnt_train = Counter(data_train_y)\n",
    "cnt_test = Counter(data_test_y)\n",
    "\n",
    "print(f\"훈련  데이터 비우범건수: {cnt_train[0]}, 훈련  데이터 우범건수: {cnt_train[1]}, 훈련  데이터 핵심건수: {cnt_train[2]}\")\n",
    "print(f\"테스트데이터 비우범건수: {cnt_test[0]}, 테스트데이터 우범건수: {cnt_test[1]}, 테스트  데이터 핵심건수: {cnt_test[2]}\")\n"
   ]
  },
  {
   "cell_type": "markdown",
   "id": "5ca4f046",
   "metadata": {},
   "source": [
    "# 랜덤포레스트"
   ]
  },
  {
   "cell_type": "code",
   "execution_count": 18,
   "id": "dc9062ec",
   "metadata": {},
   "outputs": [
    {
     "name": "stdout",
     "output_type": "stream",
     "text": [
      "training set accuracy: 0.7719338202996633\n",
      "test set accuracy: 0.7688053097345132\n"
     ]
    }
   ],
   "source": [
    "from sklearn.ensemble import RandomForestClassifier\n",
    "from sklearn.metrics import accuracy_score\n",
    "rf = RandomForestClassifier(n_estimators=50, max_depth=1)\n",
    "rf.fit(data_train, data_train_y)\n",
    "\n",
    "print('training set accuracy:', rf.score(data_train, data_train_y))\n",
    "print('test set accuracy:', rf.score(data_test, data_test_y))\n",
    "# pred = rf.predict(data_test)\n",
    "# acc = accuracy_score(data_test_y, pred)\n",
    "# print('acc:', acc)"
   ]
  },
  {
   "cell_type": "markdown",
   "id": "cbcf0b19",
   "metadata": {},
   "source": [
    "# XGBoost"
   ]
  },
  {
   "cell_type": "code",
   "execution_count": 19,
   "id": "caa7df79",
   "metadata": {},
   "outputs": [],
   "source": [
    "# XGBoost 모델 생성\n",
    "from xgboost import XGBClassifier\n",
    "from sklearn.metrics import f1_score,roc_auc_score, accuracy_score\n",
    "import warnings\n",
    "warnings.filterwarnings(\"ignore\")"
   ]
  },
  {
   "cell_type": "code",
   "execution_count": 20,
   "id": "ee0d988f",
   "metadata": {},
   "outputs": [],
   "source": [
    "#imbalanced data의 weight 설정\n",
    "\n",
    "from sklearn.utils import class_weight\n",
    "classes_weights = class_weight.compute_sample_weight(\n",
    "    class_weight='balanced',\n",
    "    y=data_train_y\n",
    ")"
   ]
  },
  {
   "cell_type": "code",
   "execution_count": 69,
   "id": "fadd8946",
   "metadata": {
    "scrolled": false
   },
   "outputs": [
    {
     "name": "stdout",
     "output_type": "stream",
     "text": [
      "[0]\tvalidation_0-merror:0.44022\tvalidation_0-mlogloss:1.06846\tvalidation_1-merror:0.44729\tvalidation_1-mlogloss:1.06900\n",
      "[1]\tvalidation_0-merror:0.38891\tvalidation_0-mlogloss:1.04302\tvalidation_1-merror:0.39836\tvalidation_1-mlogloss:1.04410\n",
      "[2]\tvalidation_0-merror:0.38808\tvalidation_0-mlogloss:1.02130\tvalidation_1-merror:0.39947\tvalidation_1-mlogloss:1.02286\n",
      "[3]\tvalidation_0-merror:0.38654\tvalidation_0-mlogloss:1.00274\tvalidation_1-merror:0.39751\tvalidation_1-mlogloss:1.00456\n",
      "[4]\tvalidation_0-merror:0.38190\tvalidation_0-mlogloss:0.98657\tvalidation_1-merror:0.39218\tvalidation_1-mlogloss:0.98876\n",
      "[5]\tvalidation_0-merror:0.37970\tvalidation_0-mlogloss:0.97252\tvalidation_1-merror:0.39159\tvalidation_1-mlogloss:0.97571\n",
      "[6]\tvalidation_0-merror:0.38094\tvalidation_0-mlogloss:0.96024\tvalidation_1-merror:0.39231\tvalidation_1-mlogloss:0.96374\n",
      "[7]\tvalidation_0-merror:0.37686\tvalidation_0-mlogloss:0.94949\tvalidation_1-merror:0.38821\tvalidation_1-mlogloss:0.95314\n",
      "[8]\tvalidation_0-merror:0.37472\tvalidation_0-mlogloss:0.94020\tvalidation_1-merror:0.38834\tvalidation_1-mlogloss:0.94593\n",
      "[9]\tvalidation_0-merror:0.37165\tvalidation_0-mlogloss:0.93190\tvalidation_1-merror:0.38567\tvalidation_1-mlogloss:0.93783\n",
      "[10]\tvalidation_0-merror:0.37284\tvalidation_0-mlogloss:0.92453\tvalidation_1-merror:0.38463\tvalidation_1-mlogloss:0.93069\n",
      "[11]\tvalidation_0-merror:0.37074\tvalidation_0-mlogloss:0.91803\tvalidation_1-merror:0.38385\tvalidation_1-mlogloss:0.92449\n",
      "[12]\tvalidation_0-merror:0.37011\tvalidation_0-mlogloss:0.91210\tvalidation_1-merror:0.38411\tvalidation_1-mlogloss:0.91958\n",
      "[13]\tvalidation_0-merror:0.37098\tvalidation_0-mlogloss:0.90697\tvalidation_1-merror:0.38470\tvalidation_1-mlogloss:0.91463\n",
      "[14]\tvalidation_0-merror:0.36303\tvalidation_0-mlogloss:0.90241\tvalidation_1-merror:0.37591\tvalidation_1-mlogloss:0.91024\n",
      "[15]\tvalidation_0-merror:0.36251\tvalidation_0-mlogloss:0.89841\tvalidation_1-merror:0.37539\tvalidation_1-mlogloss:0.90641\n",
      "[16]\tvalidation_0-merror:0.36280\tvalidation_0-mlogloss:0.89458\tvalidation_1-merror:0.37428\tvalidation_1-mlogloss:0.90282\n",
      "[17]\tvalidation_0-merror:0.36181\tvalidation_0-mlogloss:0.89115\tvalidation_1-merror:0.37396\tvalidation_1-mlogloss:0.89971\n",
      "[18]\tvalidation_0-merror:0.36256\tvalidation_0-mlogloss:0.88797\tvalidation_1-merror:0.37611\tvalidation_1-mlogloss:0.89677\n",
      "[19]\tvalidation_0-merror:0.36280\tvalidation_0-mlogloss:0.88501\tvalidation_1-merror:0.37773\tvalidation_1-mlogloss:0.89421\n",
      "[20]\tvalidation_0-merror:0.36062\tvalidation_0-mlogloss:0.88245\tvalidation_1-merror:0.37533\tvalidation_1-mlogloss:0.89192\n",
      "[21]\tvalidation_0-merror:0.36043\tvalidation_0-mlogloss:0.88005\tvalidation_1-merror:0.37545\tvalidation_1-mlogloss:0.88978\n",
      "[22]\tvalidation_0-merror:0.35999\tvalidation_0-mlogloss:0.87763\tvalidation_1-merror:0.37467\tvalidation_1-mlogloss:0.88756\n",
      "[23]\tvalidation_0-merror:0.35868\tvalidation_0-mlogloss:0.87552\tvalidation_1-merror:0.37428\tvalidation_1-mlogloss:0.88575\n",
      "[24]\tvalidation_0-merror:0.35914\tvalidation_0-mlogloss:0.87346\tvalidation_1-merror:0.37520\tvalidation_1-mlogloss:0.88397\n",
      "[25]\tvalidation_0-merror:0.36101\tvalidation_0-mlogloss:0.87163\tvalidation_1-merror:0.37702\tvalidation_1-mlogloss:0.88244\n",
      "[26]\tvalidation_0-merror:0.36090\tvalidation_0-mlogloss:0.87005\tvalidation_1-merror:0.37851\tvalidation_1-mlogloss:0.88132\n",
      "[27]\tvalidation_0-merror:0.35815\tvalidation_0-mlogloss:0.86812\tvalidation_1-merror:0.37643\tvalidation_1-mlogloss:0.87973\n",
      "[28]\tvalidation_0-merror:0.35838\tvalidation_0-mlogloss:0.86649\tvalidation_1-merror:0.37734\tvalidation_1-mlogloss:0.87829\n",
      "[29]\tvalidation_0-merror:0.35849\tvalidation_0-mlogloss:0.86498\tvalidation_1-merror:0.37773\tvalidation_1-mlogloss:0.87719\n",
      "[30]\tvalidation_0-merror:0.35815\tvalidation_0-mlogloss:0.86347\tvalidation_1-merror:0.37773\tvalidation_1-mlogloss:0.87612\n",
      "[31]\tvalidation_0-merror:0.35925\tvalidation_0-mlogloss:0.86210\tvalidation_1-merror:0.37949\tvalidation_1-mlogloss:0.87506\n",
      "[32]\tvalidation_0-merror:0.35872\tvalidation_0-mlogloss:0.86094\tvalidation_1-merror:0.37968\tvalidation_1-mlogloss:0.87430\n",
      "[33]\tvalidation_0-merror:0.35815\tvalidation_0-mlogloss:0.85957\tvalidation_1-merror:0.37949\tvalidation_1-mlogloss:0.87321\n",
      "[34]\tvalidation_0-merror:0.35841\tvalidation_0-mlogloss:0.85814\tvalidation_1-merror:0.37923\tvalidation_1-mlogloss:0.87194\n",
      "[35]\tvalidation_0-merror:0.35789\tvalidation_0-mlogloss:0.85699\tvalidation_1-merror:0.37943\tvalidation_1-mlogloss:0.87122\n",
      "[36]\tvalidation_0-merror:0.35771\tvalidation_0-mlogloss:0.85587\tvalidation_1-merror:0.38014\tvalidation_1-mlogloss:0.87035\n",
      "[37]\tvalidation_0-merror:0.35722\tvalidation_0-mlogloss:0.85485\tvalidation_1-merror:0.37897\tvalidation_1-mlogloss:0.86967\n",
      "[38]\tvalidation_0-merror:0.35685\tvalidation_0-mlogloss:0.85398\tvalidation_1-merror:0.37943\tvalidation_1-mlogloss:0.86898\n",
      "[39]\tvalidation_0-merror:0.35618\tvalidation_0-mlogloss:0.85296\tvalidation_1-merror:0.37962\tvalidation_1-mlogloss:0.86819\n",
      "[40]\tvalidation_0-merror:0.35589\tvalidation_0-mlogloss:0.85215\tvalidation_1-merror:0.37955\tvalidation_1-mlogloss:0.86753\n",
      "[41]\tvalidation_0-merror:0.35571\tvalidation_0-mlogloss:0.85123\tvalidation_1-merror:0.37943\tvalidation_1-mlogloss:0.86696\n",
      "[42]\tvalidation_0-merror:0.35540\tvalidation_0-mlogloss:0.85060\tvalidation_1-merror:0.38170\tvalidation_1-mlogloss:0.86862\n",
      "[43]\tvalidation_0-merror:0.35431\tvalidation_0-mlogloss:0.84963\tvalidation_1-merror:0.38112\tvalidation_1-mlogloss:0.86790\n",
      "[44]\tvalidation_0-merror:0.35415\tvalidation_0-mlogloss:0.84888\tvalidation_1-merror:0.38118\tvalidation_1-mlogloss:0.86749\n",
      "[45]\tvalidation_0-merror:0.35343\tvalidation_0-mlogloss:0.84819\tvalidation_1-merror:0.38105\tvalidation_1-mlogloss:0.86717\n",
      "[46]\tvalidation_0-merror:0.35239\tvalidation_0-mlogloss:0.84730\tvalidation_1-merror:0.38073\tvalidation_1-mlogloss:0.86662\n",
      "[47]\tvalidation_0-merror:0.35180\tvalidation_0-mlogloss:0.84657\tvalidation_1-merror:0.38300\tvalidation_1-mlogloss:0.87048\n",
      "[48]\tvalidation_0-merror:0.35128\tvalidation_0-mlogloss:0.84595\tvalidation_1-merror:0.38229\tvalidation_1-mlogloss:0.86993\n",
      "[49]\tvalidation_0-merror:0.35117\tvalidation_0-mlogloss:0.84532\tvalidation_1-merror:0.38528\tvalidation_1-mlogloss:0.87082\n",
      "[50]\tvalidation_0-merror:0.35063\tvalidation_0-mlogloss:0.84456\tvalidation_1-merror:0.38580\tvalidation_1-mlogloss:0.87070\n",
      "[51]\tvalidation_0-merror:0.35102\tvalidation_0-mlogloss:0.84404\tvalidation_1-merror:0.38515\tvalidation_1-mlogloss:0.87069\n",
      "[52]\tvalidation_0-merror:0.35052\tvalidation_0-mlogloss:0.84350\tvalidation_1-merror:0.38411\tvalidation_1-mlogloss:0.87022\n",
      "[53]\tvalidation_0-merror:0.35024\tvalidation_0-mlogloss:0.84292\tvalidation_1-merror:0.38476\tvalidation_1-mlogloss:0.86989\n",
      "[54]\tvalidation_0-merror:0.34962\tvalidation_0-mlogloss:0.84222\tvalidation_1-merror:0.38450\tvalidation_1-mlogloss:0.86954\n",
      "[55]\tvalidation_0-merror:0.34870\tvalidation_0-mlogloss:0.84162\tvalidation_1-merror:0.38769\tvalidation_1-mlogloss:0.87101\n",
      "[56]\tvalidation_0-merror:0.34821\tvalidation_0-mlogloss:0.84105\tvalidation_1-merror:0.38782\tvalidation_1-mlogloss:0.87079\n"
     ]
    },
    {
     "data": {
      "text/plain": [
       "XGBClassifier(base_score=0.5, booster='gbtree', colsample_bylevel=1,\n",
       "              colsample_bynode=1, colsample_bytree=1, gamma=0, gpu_id=-1,\n",
       "              importance_type='gain', interaction_constraints='',\n",
       "              learning_rate=0.1, max_delta_step=0, max_depth=4,\n",
       "              min_child_weight=1, missing=nan, monotone_constraints='()',\n",
       "              n_estimators=100, n_jobs=8, num_class=4, num_parallel_tree=1,\n",
       "              objective='multi:softprob', random_state=0, reg_alpha=0,\n",
       "              reg_lambda=1, scale_pos_weight=None, subsample=1,\n",
       "              tree_method='exact', validate_parameters=1, verbosity=None)"
      ]
     },
     "execution_count": 69,
     "metadata": {},
     "output_type": "execute_result"
    }
   ],
   "source": [
    "# 모델 활성화 및 설정\n",
    "xgb = XGBClassifier(learning_rate=0.1, objective='multi:softmax', num_class=4,\n",
    "                   n_estimators=100, max_depth=4) \n",
    "#, scale_pos_weight=3, colsample_bytree=0.4, subsample = 0.8,\n",
    "\n",
    "eval_set = [(data_train, data_train_y), (data_test, data_test_y)]\n",
    "# 모델 훈련 (training/fitting)\n",
    "xgb.fit(data_train, data_train_y,early_stopping_rounds=10, \n",
    "        eval_metric=[\"merror\", \"mlogloss\"], sample_weight=classes_weights, eval_set=eval_set, verbose=True)"
   ]
  },
  {
   "cell_type": "code",
   "execution_count": 62,
   "id": "92494834",
   "metadata": {},
   "outputs": [
    {
     "name": "stdout",
     "output_type": "stream",
     "text": [
      "------Evaluating xgboost model------\n",
      "roc_auc_score:  0.7813820424215293\n"
     ]
    }
   ],
   "source": [
    "# evaluate xgboost model\n",
    "print(\"------Evaluating xgboost model------\")\n",
    "# Predict\n",
    "test_pred = xgb.predict_proba(data_test)\n",
    "    \n",
    "print(\"roc_auc_score: \", roc_auc_score(data_test_y, test_pred, multi_class='ovr'))"
   ]
  },
  {
   "cell_type": "code",
   "execution_count": 63,
   "id": "686c8781",
   "metadata": {},
   "outputs": [
    {
     "data": {
      "image/png": "[encoded data removed]",
      "text/plain": [
       "<Figure size 1080x720 with 1 Axes>"
      ]
     },
     "metadata": {
      "needs_background": "light"
     },
     "output_type": "display_data"
    }
   ],
   "source": [
    "from matplotlib import pyplot\n",
    "# retrieve performance metrics\n",
    "results = xgb.evals_result()\n",
    "epochs = len(results['validation_0']['merror'])\n",
    "x_axis = range(0, epochs)\n",
    "# plot log loss\n",
    "fig, ax = pyplot.subplots()\n",
    "ax.plot(x_axis, results['validation_0']['merror'], label='Train')\n",
    "ax.plot(x_axis, results['validation_1']['merror'], label='Test')\n",
    "ax.legend()\n",
    "pyplot.ylabel('M Error')\n",
    "pyplot.title('XGBoost M Error')\n",
    "pyplot.show()\n",
    "# plt.savefig('XGBoost Log Loss.png')"
   ]
  },
  {
   "cell_type": "code",
   "execution_count": 64,
   "id": "1a61a548",
   "metadata": {},
   "outputs": [
    {
     "data": {
      "image/png": "[encoded data removed]",
      "text/plain": [
       "<Figure size 1080x720 with 1 Axes>"
      ]
     },
     "metadata": {
      "needs_background": "light"
     },
     "output_type": "display_data"
    }
   ],
   "source": [
    "# retrieve performance metrics\n",
    "results = xgb.evals_result()\n",
    "epochs = len(results['validation_0']['mlogloss'])\n",
    "x_axis = range(0, epochs)\n",
    "# plot log loss\n",
    "fig, ax = pyplot.subplots()\n",
    "ax.plot(x_axis, results['validation_0']['mlogloss'], label='Train')\n",
    "ax.plot(x_axis, results['validation_1']['mlogloss'], label='Test')\n",
    "ax.legend()\n",
    "pyplot.ylabel('M Log Loss')\n",
    "pyplot.title('XGBoost M Log Loss')\n",
    "pyplot.show()\n",
    "# plt.savefig('XGBoost Log Loss.png')"
   ]
  },
  {
   "cell_type": "code",
   "execution_count": 65,
   "id": "f8aa3d43",
   "metadata": {},
   "outputs": [
    {
     "data": {
      "image/png": "[encoded data removed]",
      "text/plain": [
       "<Figure size 1080x720 with 1 Axes>"
      ]
     },
     "metadata": {
      "needs_background": "light"
     },
     "output_type": "display_data"
    }
   ],
   "source": [
    "from xgboost import plot_importance\n",
    "plt.rcParams[\"font.family\"] = 'Malgun Gothic'\n",
    "plt.rcParams[\"figure.figsize\"] = (15,10)\n",
    "plot_importance(xgb, max_num_features=30)\n",
    "plt.show()"
   ]
  },
  {
   "cell_type": "markdown",
   "id": "ecbe36e5",
   "metadata": {},
   "source": [
    "# test"
   ]
  },
  {
   "cell_type": "code",
   "execution_count": 51,
   "id": "a0d9c87b",
   "metadata": {},
   "outputs": [],
   "source": [
    "test = pd.read_csv('test.csv')"
   ]
  },
  {
   "cell_type": "code",
   "execution_count": 52,
   "id": "b8519315",
   "metadata": {},
   "outputs": [
    {
     "data": {
      "text/plain": [
       "(81058, 21)"
      ]
     },
     "execution_count": 52,
     "metadata": {},
     "output_type": "execute_result"
    }
   ],
   "source": [
    "test.shape"
   ]
  },
  {
   "cell_type": "code",
   "execution_count": 53,
   "id": "d12cc92c",
   "metadata": {},
   "outputs": [
    {
     "data": {
      "text/html": [
       "<div>\n",
       "<style scoped>\n",
       "    .dataframe tbody tr th:only-of-type {\n",
       "        vertical-align: middle;\n",
       "    }\n",
       "\n",
       "    .dataframe tbody tr th {\n",
       "        vertical-align: top;\n",
       "    }\n",
       "\n",
       "    .dataframe thead th {\n",
       "        text-align: right;\n",
       "    }\n",
       "</style>\n",
       "<table border=\"1\" class=\"dataframe\">\n",
       "  <thead>\n",
       "    <tr style=\"text-align: right;\">\n",
       "      <th></th>\n",
       "      <th>신고번호</th>\n",
       "      <th>신고일자</th>\n",
       "      <th>통관지세관부호</th>\n",
       "      <th>신고인부호</th>\n",
       "      <th>수입자부호</th>\n",
       "      <th>해외거래처부호</th>\n",
       "      <th>특송업체부호</th>\n",
       "      <th>수입통관계획코드</th>\n",
       "      <th>수입신고구분코드</th>\n",
       "      <th>수입거래구분코드</th>\n",
       "      <th>수입종류코드</th>\n",
       "      <th>징수형태코드</th>\n",
       "      <th>신고중량(KG)</th>\n",
       "      <th>과세가격원화금액</th>\n",
       "      <th>운송수단유형코드</th>\n",
       "      <th>반입보세구역부호</th>\n",
       "      <th>HS10단위부호</th>\n",
       "      <th>적출국가코드</th>\n",
       "      <th>원산지국가코드</th>\n",
       "      <th>관세율구분코드</th>\n",
       "      <th>관세율</th>\n",
       "    </tr>\n",
       "  </thead>\n",
       "  <tbody>\n",
       "    <tr>\n",
       "      <th>23160</th>\n",
       "      <td>83923494.0</td>\n",
       "      <td>2020-12-31</td>\n",
       "      <td>40.0</td>\n",
       "      <td>4TYA6</td>\n",
       "      <td>OEYQJDQ</td>\n",
       "      <td>NaN</td>\n",
       "      <td>NaN</td>\n",
       "      <td>D</td>\n",
       "      <td>B</td>\n",
       "      <td>11.0</td>\n",
       "      <td>21.0</td>\n",
       "      <td>11.0</td>\n",
       "      <td>3793.2</td>\n",
       "      <td>2.673082e+06</td>\n",
       "      <td>10.0</td>\n",
       "      <td>3078022.0</td>\n",
       "      <td>8.525801e+09</td>\n",
       "      <td>VN</td>\n",
       "      <td>VN</td>\n",
       "      <td>CIT</td>\n",
       "      <td>0.0</td>\n",
       "    </tr>\n",
       "    <tr>\n",
       "      <th>23161</th>\n",
       "      <td>17890784.0</td>\n",
       "      <td>2020-12-31</td>\n",
       "      <td>30.0</td>\n",
       "      <td>CGMT6</td>\n",
       "      <td>V69LHEI</td>\n",
       "      <td>NaN</td>\n",
       "      <td>PR5UFJ</td>\n",
       "      <td>C</td>\n",
       "      <td>B</td>\n",
       "      <td>11.0</td>\n",
       "      <td>21.0</td>\n",
       "      <td>11.0</td>\n",
       "      <td>5148.8</td>\n",
       "      <td>1.147732e+05</td>\n",
       "      <td>10.0</td>\n",
       "      <td>2006089.0</td>\n",
       "      <td>2.106909e+09</td>\n",
       "      <td>US</td>\n",
       "      <td>US</td>\n",
       "      <td>A</td>\n",
       "      <td>8.0</td>\n",
       "    </tr>\n",
       "    <tr>\n",
       "      <th>23162</th>\n",
       "      <td>99164173.0</td>\n",
       "      <td>2020-12-31</td>\n",
       "      <td>16.0</td>\n",
       "      <td>HY5FQ</td>\n",
       "      <td>FUQRKQL</td>\n",
       "      <td>W46PYSV</td>\n",
       "      <td>YGHZ0X</td>\n",
       "      <td>C</td>\n",
       "      <td>B</td>\n",
       "      <td>15.0</td>\n",
       "      <td>21.0</td>\n",
       "      <td>18.0</td>\n",
       "      <td>13906.2</td>\n",
       "      <td>5.470683e+07</td>\n",
       "      <td>40.0</td>\n",
       "      <td>1011065.0</td>\n",
       "      <td>9.018904e+09</td>\n",
       "      <td>JP</td>\n",
       "      <td>JP</td>\n",
       "      <td>A</td>\n",
       "      <td>8.0</td>\n",
       "    </tr>\n",
       "    <tr>\n",
       "      <th>23163</th>\n",
       "      <td>NaN</td>\n",
       "      <td>NaN</td>\n",
       "      <td>NaN</td>\n",
       "      <td>NaN</td>\n",
       "      <td>NaN</td>\n",
       "      <td>NaN</td>\n",
       "      <td>NaN</td>\n",
       "      <td>NaN</td>\n",
       "      <td>NaN</td>\n",
       "      <td>NaN</td>\n",
       "      <td>NaN</td>\n",
       "      <td>NaN</td>\n",
       "      <td>NaN</td>\n",
       "      <td>NaN</td>\n",
       "      <td>NaN</td>\n",
       "      <td>NaN</td>\n",
       "      <td>NaN</td>\n",
       "      <td>NaN</td>\n",
       "      <td>NaN</td>\n",
       "      <td>NaN</td>\n",
       "      <td>NaN</td>\n",
       "    </tr>\n",
       "  </tbody>\n",
       "</table>\n",
       "</div>"
      ],
      "text/plain": [
       "             신고번호        신고일자  통관지세관부호  신고인부호    수입자부호  해외거래처부호  특송업체부호  \\\n",
       "23160  83923494.0  2020-12-31     40.0  4TYA6  OEYQJDQ      NaN     NaN   \n",
       "23161  17890784.0  2020-12-31     30.0  CGMT6  V69LHEI      NaN  PR5UFJ   \n",
       "23162  99164173.0  2020-12-31     16.0  HY5FQ  FUQRKQL  W46PYSV  YGHZ0X   \n",
       "23163         NaN         NaN      NaN    NaN      NaN      NaN     NaN   \n",
       "\n",
       "      수입통관계획코드 수입신고구분코드  수입거래구분코드  수입종류코드  징수형태코드  신고중량(KG)      과세가격원화금액  \\\n",
       "23160        D        B      11.0    21.0    11.0    3793.2  2.673082e+06   \n",
       "23161        C        B      11.0    21.0    11.0    5148.8  1.147732e+05   \n",
       "23162        C        B      15.0    21.0    18.0   13906.2  5.470683e+07   \n",
       "23163      NaN      NaN       NaN     NaN     NaN       NaN           NaN   \n",
       "\n",
       "       운송수단유형코드   반입보세구역부호      HS10단위부호 적출국가코드 원산지국가코드 관세율구분코드  관세율  \n",
       "23160      10.0  3078022.0  8.525801e+09     VN      VN     CIT  0.0  \n",
       "23161      10.0  2006089.0  2.106909e+09     US      US       A  8.0  \n",
       "23162      40.0  1011065.0  9.018904e+09     JP      JP       A  8.0  \n",
       "23163       NaN        NaN           NaN    NaN     NaN     NaN  NaN  "
      ]
     },
     "execution_count": 53,
     "metadata": {},
     "output_type": "execute_result"
    }
   ],
   "source": [
    "test.iloc[23160:23164]"
   ]
  },
  {
   "cell_type": "code",
   "execution_count": 54,
   "id": "3d8e9509",
   "metadata": {},
   "outputs": [],
   "source": [
    "test = test.iloc[:23163]"
   ]
  },
  {
   "cell_type": "code",
   "execution_count": 55,
   "id": "70350b32",
   "metadata": {},
   "outputs": [],
   "source": [
    "#train 데이터와 같이 전처리\n",
    "\n",
    "del test['신고번호']\n",
    "\n",
    "\n",
    "test['신고일자']=pd.to_datetime(test['신고일자'])\n",
    "test['신고일자']=test['신고일자'].dt.day\n",
    "\n",
    "for i in test.index:\n",
    "    val = test.loc[i,'통관지세관부호'] #10, 13, 16, 20, 30, 40\n",
    "    if val != 10 and val != 13 and val != 16 and val != 16 and val != 20 and val != 30 and val != 40:\n",
    "        test.loc[i,'통관지세관부호'] = 55\n",
    "\n",
    "#4077006 이하 통일\n",
    "for i in test.index:\n",
    "    val = test.loc[i,'반입보세구역부호']\n",
    "    if val < 4077007:\n",
    "        test.loc[i,'반입보세구역부호'] = 4077006\n",
    "        \n",
    "test = test.fillna(0)\n",
    "\n",
    "# 범주형 변수 지정\n",
    "categorical_columns = ['신고일자',  '통관지세관부호',\n",
    "       '신고인부호', '수입자부호', '해외거래처부호', '특송업체부호', '수입통관계획코드', \n",
    "       '수입신고구분코드', '수입거래구분코드', '관세율구분코드', '원산지국가코드',\n",
    "       '수입종류코드', '징수형태코드', \n",
    "       '운송수단유형코드', '반입보세구역부호', \n",
    "       'HS10단위부호', '적출국가코드']\n",
    "\n",
    "# object -> string\n",
    "for var in categorical_columns:\n",
    "    test[var] = test[var].astype(str)\n",
    "    \n",
    "# 수치형 변수 지정\n",
    "numeric_columns = ['신고중량(KG)', '과세가격원화금액', '관세율']\n",
    "\n",
    "# 수치형 변수를 자연로그로 변환\n",
    "for var in ['신고중량(KG)', '과세가격원화금액']:\n",
    "    test[var] = test[var].apply(lambda x: np.log1p(x))\n",
    "\n"
   ]
  },
  {
   "cell_type": "code",
   "execution_count": 56,
   "id": "877074f1",
   "metadata": {},
   "outputs": [],
   "source": [
    "#Label Encoding\n",
    "for var in categorical_columns:\n",
    "    test[var] = label_encoding_ref[var].fit_transform(test[var])\n",
    "    \n",
    "test.reset_index(drop=True, inplace=True)"
   ]
  },
  {
   "cell_type": "code",
   "execution_count": 57,
   "id": "d9364763",
   "metadata": {},
   "outputs": [
    {
     "data": {
      "text/html": [
       "<div>\n",
       "<style scoped>\n",
       "    .dataframe tbody tr th:only-of-type {\n",
       "        vertical-align: middle;\n",
       "    }\n",
       "\n",
       "    .dataframe tbody tr th {\n",
       "        vertical-align: top;\n",
       "    }\n",
       "\n",
       "    .dataframe thead th {\n",
       "        text-align: right;\n",
       "    }\n",
       "</style>\n",
       "<table border=\"1\" class=\"dataframe\">\n",
       "  <thead>\n",
       "    <tr style=\"text-align: right;\">\n",
       "      <th></th>\n",
       "      <th>신고일자</th>\n",
       "      <th>통관지세관부호</th>\n",
       "      <th>신고인부호</th>\n",
       "      <th>수입자부호</th>\n",
       "      <th>해외거래처부호</th>\n",
       "      <th>특송업체부호</th>\n",
       "      <th>수입통관계획코드</th>\n",
       "      <th>수입신고구분코드</th>\n",
       "      <th>수입거래구분코드</th>\n",
       "      <th>수입종류코드</th>\n",
       "      <th>징수형태코드</th>\n",
       "      <th>신고중량(KG)</th>\n",
       "      <th>과세가격원화금액</th>\n",
       "      <th>운송수단유형코드</th>\n",
       "      <th>반입보세구역부호</th>\n",
       "      <th>HS10단위부호</th>\n",
       "      <th>적출국가코드</th>\n",
       "      <th>원산지국가코드</th>\n",
       "      <th>관세율구분코드</th>\n",
       "      <th>관세율</th>\n",
       "    </tr>\n",
       "  </thead>\n",
       "  <tbody>\n",
       "    <tr>\n",
       "      <th>11193</th>\n",
       "      <td>7</td>\n",
       "      <td>5</td>\n",
       "      <td>377</td>\n",
       "      <td>798</td>\n",
       "      <td>0</td>\n",
       "      <td>0</td>\n",
       "      <td>3</td>\n",
       "      <td>1</td>\n",
       "      <td>0</td>\n",
       "      <td>5</td>\n",
       "      <td>1</td>\n",
       "      <td>9.058587</td>\n",
       "      <td>14.347559</td>\n",
       "      <td>0</td>\n",
       "      <td>40</td>\n",
       "      <td>152</td>\n",
       "      <td>40</td>\n",
       "      <td>39</td>\n",
       "      <td>0</td>\n",
       "      <td>8.0</td>\n",
       "    </tr>\n",
       "    <tr>\n",
       "      <th>15686</th>\n",
       "      <td>11</td>\n",
       "      <td>5</td>\n",
       "      <td>691</td>\n",
       "      <td>1474</td>\n",
       "      <td>3724</td>\n",
       "      <td>0</td>\n",
       "      <td>2</td>\n",
       "      <td>1</td>\n",
       "      <td>3</td>\n",
       "      <td>5</td>\n",
       "      <td>1</td>\n",
       "      <td>9.097060</td>\n",
       "      <td>15.317993</td>\n",
       "      <td>0</td>\n",
       "      <td>40</td>\n",
       "      <td>573</td>\n",
       "      <td>80</td>\n",
       "      <td>78</td>\n",
       "      <td>22</td>\n",
       "      <td>0.0</td>\n",
       "    </tr>\n",
       "    <tr>\n",
       "      <th>9110</th>\n",
       "      <td>27</td>\n",
       "      <td>5</td>\n",
       "      <td>71</td>\n",
       "      <td>3103</td>\n",
       "      <td>410</td>\n",
       "      <td>0</td>\n",
       "      <td>2</td>\n",
       "      <td>1</td>\n",
       "      <td>0</td>\n",
       "      <td>0</td>\n",
       "      <td>8</td>\n",
       "      <td>8.652039</td>\n",
       "      <td>13.801268</td>\n",
       "      <td>0</td>\n",
       "      <td>44</td>\n",
       "      <td>968</td>\n",
       "      <td>37</td>\n",
       "      <td>36</td>\n",
       "      <td>15</td>\n",
       "      <td>0.0</td>\n",
       "    </tr>\n",
       "    <tr>\n",
       "      <th>14299</th>\n",
       "      <td>19</td>\n",
       "      <td>5</td>\n",
       "      <td>691</td>\n",
       "      <td>4890</td>\n",
       "      <td>0</td>\n",
       "      <td>0</td>\n",
       "      <td>1</td>\n",
       "      <td>1</td>\n",
       "      <td>0</td>\n",
       "      <td>5</td>\n",
       "      <td>1</td>\n",
       "      <td>8.876265</td>\n",
       "      <td>11.648971</td>\n",
       "      <td>3</td>\n",
       "      <td>40</td>\n",
       "      <td>933</td>\n",
       "      <td>13</td>\n",
       "      <td>15</td>\n",
       "      <td>0</td>\n",
       "      <td>13.0</td>\n",
       "    </tr>\n",
       "    <tr>\n",
       "      <th>10806</th>\n",
       "      <td>4</td>\n",
       "      <td>4</td>\n",
       "      <td>40</td>\n",
       "      <td>4674</td>\n",
       "      <td>2751</td>\n",
       "      <td>0</td>\n",
       "      <td>2</td>\n",
       "      <td>1</td>\n",
       "      <td>0</td>\n",
       "      <td>5</td>\n",
       "      <td>1</td>\n",
       "      <td>8.718991</td>\n",
       "      <td>10.465668</td>\n",
       "      <td>3</td>\n",
       "      <td>40</td>\n",
       "      <td>1265</td>\n",
       "      <td>13</td>\n",
       "      <td>15</td>\n",
       "      <td>10</td>\n",
       "      <td>0.0</td>\n",
       "    </tr>\n",
       "    <tr>\n",
       "      <th>11739</th>\n",
       "      <td>9</td>\n",
       "      <td>5</td>\n",
       "      <td>80</td>\n",
       "      <td>1527</td>\n",
       "      <td>554</td>\n",
       "      <td>79</td>\n",
       "      <td>2</td>\n",
       "      <td>2</td>\n",
       "      <td>0</td>\n",
       "      <td>5</td>\n",
       "      <td>8</td>\n",
       "      <td>8.751965</td>\n",
       "      <td>0.000000</td>\n",
       "      <td>3</td>\n",
       "      <td>44</td>\n",
       "      <td>1053</td>\n",
       "      <td>82</td>\n",
       "      <td>80</td>\n",
       "      <td>0</td>\n",
       "      <td>8.0</td>\n",
       "    </tr>\n",
       "    <tr>\n",
       "      <th>11631</th>\n",
       "      <td>9</td>\n",
       "      <td>4</td>\n",
       "      <td>609</td>\n",
       "      <td>1809</td>\n",
       "      <td>0</td>\n",
       "      <td>0</td>\n",
       "      <td>1</td>\n",
       "      <td>1</td>\n",
       "      <td>0</td>\n",
       "      <td>5</td>\n",
       "      <td>1</td>\n",
       "      <td>9.584108</td>\n",
       "      <td>14.747621</td>\n",
       "      <td>3</td>\n",
       "      <td>40</td>\n",
       "      <td>89</td>\n",
       "      <td>76</td>\n",
       "      <td>73</td>\n",
       "      <td>0</td>\n",
       "      <td>5.0</td>\n",
       "    </tr>\n",
       "    <tr>\n",
       "      <th>15186</th>\n",
       "      <td>0</td>\n",
       "      <td>5</td>\n",
       "      <td>89</td>\n",
       "      <td>1859</td>\n",
       "      <td>0</td>\n",
       "      <td>0</td>\n",
       "      <td>2</td>\n",
       "      <td>1</td>\n",
       "      <td>0</td>\n",
       "      <td>0</td>\n",
       "      <td>1</td>\n",
       "      <td>8.771556</td>\n",
       "      <td>12.713756</td>\n",
       "      <td>0</td>\n",
       "      <td>40</td>\n",
       "      <td>770</td>\n",
       "      <td>80</td>\n",
       "      <td>78</td>\n",
       "      <td>0</td>\n",
       "      <td>0.0</td>\n",
       "    </tr>\n",
       "    <tr>\n",
       "      <th>8024</th>\n",
       "      <td>22</td>\n",
       "      <td>6</td>\n",
       "      <td>209</td>\n",
       "      <td>1535</td>\n",
       "      <td>0</td>\n",
       "      <td>0</td>\n",
       "      <td>1</td>\n",
       "      <td>1</td>\n",
       "      <td>3</td>\n",
       "      <td>5</td>\n",
       "      <td>1</td>\n",
       "      <td>9.207266</td>\n",
       "      <td>14.798954</td>\n",
       "      <td>0</td>\n",
       "      <td>40</td>\n",
       "      <td>920</td>\n",
       "      <td>13</td>\n",
       "      <td>15</td>\n",
       "      <td>0</td>\n",
       "      <td>13.0</td>\n",
       "    </tr>\n",
       "    <tr>\n",
       "      <th>10819</th>\n",
       "      <td>4</td>\n",
       "      <td>3</td>\n",
       "      <td>231</td>\n",
       "      <td>6264</td>\n",
       "      <td>0</td>\n",
       "      <td>0</td>\n",
       "      <td>0</td>\n",
       "      <td>1</td>\n",
       "      <td>0</td>\n",
       "      <td>5</td>\n",
       "      <td>8</td>\n",
       "      <td>9.217981</td>\n",
       "      <td>13.888182</td>\n",
       "      <td>0</td>\n",
       "      <td>58</td>\n",
       "      <td>170</td>\n",
       "      <td>78</td>\n",
       "      <td>76</td>\n",
       "      <td>0</td>\n",
       "      <td>8.0</td>\n",
       "    </tr>\n",
       "  </tbody>\n",
       "</table>\n",
       "</div>"
      ],
      "text/plain": [
       "       신고일자  통관지세관부호  신고인부호  수입자부호  해외거래처부호  특송업체부호  수입통관계획코드  수입신고구분코드  \\\n",
       "11193     7        5    377    798        0       0         3         1   \n",
       "15686    11        5    691   1474     3724       0         2         1   \n",
       "9110     27        5     71   3103      410       0         2         1   \n",
       "14299    19        5    691   4890        0       0         1         1   \n",
       "10806     4        4     40   4674     2751       0         2         1   \n",
       "11739     9        5     80   1527      554      79         2         2   \n",
       "11631     9        4    609   1809        0       0         1         1   \n",
       "15186     0        5     89   1859        0       0         2         1   \n",
       "8024     22        6    209   1535        0       0         1         1   \n",
       "10819     4        3    231   6264        0       0         0         1   \n",
       "\n",
       "       수입거래구분코드  수입종류코드  징수형태코드  신고중량(KG)   과세가격원화금액  운송수단유형코드  반입보세구역부호  \\\n",
       "11193         0       5       1  9.058587  14.347559         0        40   \n",
       "15686         3       5       1  9.097060  15.317993         0        40   \n",
       "9110          0       0       8  8.652039  13.801268         0        44   \n",
       "14299         0       5       1  8.876265  11.648971         3        40   \n",
       "10806         0       5       1  8.718991  10.465668         3        40   \n",
       "11739         0       5       8  8.751965   0.000000         3        44   \n",
       "11631         0       5       1  9.584108  14.747621         3        40   \n",
       "15186         0       0       1  8.771556  12.713756         0        40   \n",
       "8024          3       5       1  9.207266  14.798954         0        40   \n",
       "10819         0       5       8  9.217981  13.888182         0        58   \n",
       "\n",
       "       HS10단위부호  적출국가코드  원산지국가코드  관세율구분코드   관세율  \n",
       "11193       152      40       39        0   8.0  \n",
       "15686       573      80       78       22   0.0  \n",
       "9110        968      37       36       15   0.0  \n",
       "14299       933      13       15        0  13.0  \n",
       "10806      1265      13       15       10   0.0  \n",
       "11739      1053      82       80        0   8.0  \n",
       "11631        89      76       73        0   5.0  \n",
       "15186       770      80       78        0   0.0  \n",
       "8024        920      13       15        0  13.0  \n",
       "10819       170      78       76        0   8.0  "
      ]
     },
     "execution_count": 57,
     "metadata": {},
     "output_type": "execute_result"
    }
   ],
   "source": [
    "test.sample(10)"
   ]
  },
  {
   "cell_type": "markdown",
   "id": "edd06b3d",
   "metadata": {},
   "source": [
    "# predict"
   ]
  },
  {
   "cell_type": "code",
   "execution_count": 70,
   "id": "979b42cf",
   "metadata": {},
   "outputs": [],
   "source": [
    "predict = xgb.predict(test)\n"
   ]
  },
  {
   "cell_type": "code",
   "execution_count": 71,
   "id": "d20ff0e8",
   "metadata": {},
   "outputs": [
    {
     "data": {
      "text/plain": [
       "(23163,)"
      ]
     },
     "execution_count": 71,
     "metadata": {},
     "output_type": "execute_result"
    }
   ],
   "source": [
    "predict.shape"
   ]
  },
  {
   "cell_type": "code",
   "execution_count": 72,
   "id": "ed37eb70",
   "metadata": {},
   "outputs": [
    {
     "data": {
      "text/html": [
       "<div>\n",
       "<style scoped>\n",
       "    .dataframe tbody tr th:only-of-type {\n",
       "        vertical-align: middle;\n",
       "    }\n",
       "\n",
       "    .dataframe tbody tr th {\n",
       "        vertical-align: top;\n",
       "    }\n",
       "\n",
       "    .dataframe thead th {\n",
       "        text-align: right;\n",
       "    }\n",
       "</style>\n",
       "<table border=\"1\" class=\"dataframe\">\n",
       "  <thead>\n",
       "    <tr style=\"text-align: right;\">\n",
       "      <th></th>\n",
       "      <th>#ofLabels</th>\n",
       "    </tr>\n",
       "    <tr>\n",
       "      <th>0</th>\n",
       "      <th></th>\n",
       "    </tr>\n",
       "  </thead>\n",
       "  <tbody>\n",
       "    <tr>\n",
       "      <th>0</th>\n",
       "      <td>13121</td>\n",
       "    </tr>\n",
       "    <tr>\n",
       "      <th>1</th>\n",
       "      <td>5349</td>\n",
       "    </tr>\n",
       "    <tr>\n",
       "      <th>2</th>\n",
       "      <td>4693</td>\n",
       "    </tr>\n",
       "  </tbody>\n",
       "</table>\n",
       "</div>"
      ],
      "text/plain": [
       "   #ofLabels\n",
       "0           \n",
       "0      13121\n",
       "1       5349\n",
       "2       4693"
      ]
     },
     "execution_count": 72,
     "metadata": {},
     "output_type": "execute_result"
    }
   ],
   "source": [
    "predict = pd.DataFrame(predict)\n",
    "counts = predict.value_counts()\n",
    "counts = pd.DataFrame(counts)\n",
    "counts = counts.rename(columns = {0:'#ofLabels'})\n",
    "counts"
   ]
  },
  {
   "cell_type": "markdown",
   "id": "d5c4ecc3",
   "metadata": {},
   "source": [
    "# submission.csv 파일에 저장"
   ]
  },
  {
   "cell_type": "code",
   "execution_count": 36,
   "id": "01f5f812",
   "metadata": {},
   "outputs": [
    {
     "ename": "FileNotFoundError",
     "evalue": "[Errno 2] No such file or directory: 'submission.csv'",
     "output_type": "error",
     "traceback": [
      "\u001b[1;31m---------------------------------------------------------------------------\u001b[0m",
      "\u001b[1;31mFileNotFoundError\u001b[0m                         Traceback (most recent call last)",
      "\u001b[1;32m<ipython-input-36-e1bcf8a3c952>\u001b[0m in \u001b[0;36m<module>\u001b[1;34m\u001b[0m\n\u001b[1;32m----> 1\u001b[1;33m \u001b[0msubmission\u001b[0m \u001b[1;33m=\u001b[0m \u001b[0mpd\u001b[0m\u001b[1;33m.\u001b[0m\u001b[0mread_csv\u001b[0m\u001b[1;33m(\u001b[0m\u001b[1;34m'submission.csv'\u001b[0m\u001b[1;33m,\u001b[0m \u001b[0mencoding\u001b[0m\u001b[1;33m=\u001b[0m\u001b[1;34m'CP949'\u001b[0m\u001b[1;33m)\u001b[0m\u001b[1;33m\u001b[0m\u001b[1;33m\u001b[0m\u001b[0m\n\u001b[0m",
      "\u001b[1;32m~\\anaconda3\\lib\\site-packages\\pandas\\io\\parsers.py\u001b[0m in \u001b[0;36mread_csv\u001b[1;34m(filepath_or_buffer, sep, delimiter, header, names, index_col, usecols, squeeze, prefix, mangle_dupe_cols, dtype, engine, converters, true_values, false_values, skipinitialspace, skiprows, skipfooter, nrows, na_values, keep_default_na, na_filter, verbose, skip_blank_lines, parse_dates, infer_datetime_format, keep_date_col, date_parser, dayfirst, cache_dates, iterator, chunksize, compression, thousands, decimal, lineterminator, quotechar, quoting, doublequote, escapechar, comment, encoding, dialect, error_bad_lines, warn_bad_lines, delim_whitespace, low_memory, memory_map, float_precision, storage_options)\u001b[0m\n\u001b[0;32m    608\u001b[0m     \u001b[0mkwds\u001b[0m\u001b[1;33m.\u001b[0m\u001b[0mupdate\u001b[0m\u001b[1;33m(\u001b[0m\u001b[0mkwds_defaults\u001b[0m\u001b[1;33m)\u001b[0m\u001b[1;33m\u001b[0m\u001b[1;33m\u001b[0m\u001b[0m\n\u001b[0;32m    609\u001b[0m \u001b[1;33m\u001b[0m\u001b[0m\n\u001b[1;32m--> 610\u001b[1;33m     \u001b[1;32mreturn\u001b[0m \u001b[0m_read\u001b[0m\u001b[1;33m(\u001b[0m\u001b[0mfilepath_or_buffer\u001b[0m\u001b[1;33m,\u001b[0m \u001b[0mkwds\u001b[0m\u001b[1;33m)\u001b[0m\u001b[1;33m\u001b[0m\u001b[1;33m\u001b[0m\u001b[0m\n\u001b[0m\u001b[0;32m    611\u001b[0m \u001b[1;33m\u001b[0m\u001b[0m\n\u001b[0;32m    612\u001b[0m \u001b[1;33m\u001b[0m\u001b[0m\n",
      "\u001b[1;32m~\\anaconda3\\lib\\site-packages\\pandas\\io\\parsers.py\u001b[0m in \u001b[0;36m_read\u001b[1;34m(filepath_or_buffer, kwds)\u001b[0m\n\u001b[0;32m    460\u001b[0m \u001b[1;33m\u001b[0m\u001b[0m\n\u001b[0;32m    461\u001b[0m     \u001b[1;31m# Create the parser.\u001b[0m\u001b[1;33m\u001b[0m\u001b[1;33m\u001b[0m\u001b[1;33m\u001b[0m\u001b[0m\n\u001b[1;32m--> 462\u001b[1;33m     \u001b[0mparser\u001b[0m \u001b[1;33m=\u001b[0m \u001b[0mTextFileReader\u001b[0m\u001b[1;33m(\u001b[0m\u001b[0mfilepath_or_buffer\u001b[0m\u001b[1;33m,\u001b[0m \u001b[1;33m**\u001b[0m\u001b[0mkwds\u001b[0m\u001b[1;33m)\u001b[0m\u001b[1;33m\u001b[0m\u001b[1;33m\u001b[0m\u001b[0m\n\u001b[0m\u001b[0;32m    463\u001b[0m \u001b[1;33m\u001b[0m\u001b[0m\n\u001b[0;32m    464\u001b[0m     \u001b[1;32mif\u001b[0m \u001b[0mchunksize\u001b[0m \u001b[1;32mor\u001b[0m \u001b[0miterator\u001b[0m\u001b[1;33m:\u001b[0m\u001b[1;33m\u001b[0m\u001b[1;33m\u001b[0m\u001b[0m\n",
      "\u001b[1;32m~\\anaconda3\\lib\\site-packages\\pandas\\io\\parsers.py\u001b[0m in \u001b[0;36m__init__\u001b[1;34m(self, f, engine, **kwds)\u001b[0m\n\u001b[0;32m    817\u001b[0m             \u001b[0mself\u001b[0m\u001b[1;33m.\u001b[0m\u001b[0moptions\u001b[0m\u001b[1;33m[\u001b[0m\u001b[1;34m\"has_index_names\"\u001b[0m\u001b[1;33m]\u001b[0m \u001b[1;33m=\u001b[0m \u001b[0mkwds\u001b[0m\u001b[1;33m[\u001b[0m\u001b[1;34m\"has_index_names\"\u001b[0m\u001b[1;33m]\u001b[0m\u001b[1;33m\u001b[0m\u001b[1;33m\u001b[0m\u001b[0m\n\u001b[0;32m    818\u001b[0m \u001b[1;33m\u001b[0m\u001b[0m\n\u001b[1;32m--> 819\u001b[1;33m         \u001b[0mself\u001b[0m\u001b[1;33m.\u001b[0m\u001b[0m_engine\u001b[0m \u001b[1;33m=\u001b[0m \u001b[0mself\u001b[0m\u001b[1;33m.\u001b[0m\u001b[0m_make_engine\u001b[0m\u001b[1;33m(\u001b[0m\u001b[0mself\u001b[0m\u001b[1;33m.\u001b[0m\u001b[0mengine\u001b[0m\u001b[1;33m)\u001b[0m\u001b[1;33m\u001b[0m\u001b[1;33m\u001b[0m\u001b[0m\n\u001b[0m\u001b[0;32m    820\u001b[0m \u001b[1;33m\u001b[0m\u001b[0m\n\u001b[0;32m    821\u001b[0m     \u001b[1;32mdef\u001b[0m \u001b[0mclose\u001b[0m\u001b[1;33m(\u001b[0m\u001b[0mself\u001b[0m\u001b[1;33m)\u001b[0m\u001b[1;33m:\u001b[0m\u001b[1;33m\u001b[0m\u001b[1;33m\u001b[0m\u001b[0m\n",
      "\u001b[1;32m~\\anaconda3\\lib\\site-packages\\pandas\\io\\parsers.py\u001b[0m in \u001b[0;36m_make_engine\u001b[1;34m(self, engine)\u001b[0m\n\u001b[0;32m   1048\u001b[0m             )\n\u001b[0;32m   1049\u001b[0m         \u001b[1;31m# error: Too many arguments for \"ParserBase\"\u001b[0m\u001b[1;33m\u001b[0m\u001b[1;33m\u001b[0m\u001b[1;33m\u001b[0m\u001b[0m\n\u001b[1;32m-> 1050\u001b[1;33m         \u001b[1;32mreturn\u001b[0m \u001b[0mmapping\u001b[0m\u001b[1;33m[\u001b[0m\u001b[0mengine\u001b[0m\u001b[1;33m]\u001b[0m\u001b[1;33m(\u001b[0m\u001b[0mself\u001b[0m\u001b[1;33m.\u001b[0m\u001b[0mf\u001b[0m\u001b[1;33m,\u001b[0m \u001b[1;33m**\u001b[0m\u001b[0mself\u001b[0m\u001b[1;33m.\u001b[0m\u001b[0moptions\u001b[0m\u001b[1;33m)\u001b[0m  \u001b[1;31m# type: ignore[call-arg]\u001b[0m\u001b[1;33m\u001b[0m\u001b[1;33m\u001b[0m\u001b[0m\n\u001b[0m\u001b[0;32m   1051\u001b[0m \u001b[1;33m\u001b[0m\u001b[0m\n\u001b[0;32m   1052\u001b[0m     \u001b[1;32mdef\u001b[0m \u001b[0m_failover_to_python\u001b[0m\u001b[1;33m(\u001b[0m\u001b[0mself\u001b[0m\u001b[1;33m)\u001b[0m\u001b[1;33m:\u001b[0m\u001b[1;33m\u001b[0m\u001b[1;33m\u001b[0m\u001b[0m\n",
      "\u001b[1;32m~\\anaconda3\\lib\\site-packages\\pandas\\io\\parsers.py\u001b[0m in \u001b[0;36m__init__\u001b[1;34m(self, src, **kwds)\u001b[0m\n\u001b[0;32m   1865\u001b[0m \u001b[1;33m\u001b[0m\u001b[0m\n\u001b[0;32m   1866\u001b[0m         \u001b[1;31m# open handles\u001b[0m\u001b[1;33m\u001b[0m\u001b[1;33m\u001b[0m\u001b[1;33m\u001b[0m\u001b[0m\n\u001b[1;32m-> 1867\u001b[1;33m         \u001b[0mself\u001b[0m\u001b[1;33m.\u001b[0m\u001b[0m_open_handles\u001b[0m\u001b[1;33m(\u001b[0m\u001b[0msrc\u001b[0m\u001b[1;33m,\u001b[0m \u001b[0mkwds\u001b[0m\u001b[1;33m)\u001b[0m\u001b[1;33m\u001b[0m\u001b[1;33m\u001b[0m\u001b[0m\n\u001b[0m\u001b[0;32m   1868\u001b[0m         \u001b[1;32massert\u001b[0m \u001b[0mself\u001b[0m\u001b[1;33m.\u001b[0m\u001b[0mhandles\u001b[0m \u001b[1;32mis\u001b[0m \u001b[1;32mnot\u001b[0m \u001b[1;32mNone\u001b[0m\u001b[1;33m\u001b[0m\u001b[1;33m\u001b[0m\u001b[0m\n\u001b[0;32m   1869\u001b[0m         \u001b[1;32mfor\u001b[0m \u001b[0mkey\u001b[0m \u001b[1;32min\u001b[0m \u001b[1;33m(\u001b[0m\u001b[1;34m\"storage_options\"\u001b[0m\u001b[1;33m,\u001b[0m \u001b[1;34m\"encoding\"\u001b[0m\u001b[1;33m,\u001b[0m \u001b[1;34m\"memory_map\"\u001b[0m\u001b[1;33m,\u001b[0m \u001b[1;34m\"compression\"\u001b[0m\u001b[1;33m)\u001b[0m\u001b[1;33m:\u001b[0m\u001b[1;33m\u001b[0m\u001b[1;33m\u001b[0m\u001b[0m\n",
      "\u001b[1;32m~\\anaconda3\\lib\\site-packages\\pandas\\io\\parsers.py\u001b[0m in \u001b[0;36m_open_handles\u001b[1;34m(self, src, kwds)\u001b[0m\n\u001b[0;32m   1360\u001b[0m         \u001b[0mLet\u001b[0m \u001b[0mthe\u001b[0m \u001b[0mreaders\u001b[0m \u001b[0mopen\u001b[0m \u001b[0mIOHanldes\u001b[0m \u001b[0mafter\u001b[0m \u001b[0mthey\u001b[0m \u001b[0mare\u001b[0m \u001b[0mdone\u001b[0m \u001b[1;32mwith\u001b[0m \u001b[0mtheir\u001b[0m \u001b[0mpotential\u001b[0m \u001b[0mraises\u001b[0m\u001b[1;33m.\u001b[0m\u001b[1;33m\u001b[0m\u001b[1;33m\u001b[0m\u001b[0m\n\u001b[0;32m   1361\u001b[0m         \"\"\"\n\u001b[1;32m-> 1362\u001b[1;33m         self.handles = get_handle(\n\u001b[0m\u001b[0;32m   1363\u001b[0m             \u001b[0msrc\u001b[0m\u001b[1;33m,\u001b[0m\u001b[1;33m\u001b[0m\u001b[1;33m\u001b[0m\u001b[0m\n\u001b[0;32m   1364\u001b[0m             \u001b[1;34m\"r\"\u001b[0m\u001b[1;33m,\u001b[0m\u001b[1;33m\u001b[0m\u001b[1;33m\u001b[0m\u001b[0m\n",
      "\u001b[1;32m~\\anaconda3\\lib\\site-packages\\pandas\\io\\common.py\u001b[0m in \u001b[0;36mget_handle\u001b[1;34m(path_or_buf, mode, encoding, compression, memory_map, is_text, errors, storage_options)\u001b[0m\n\u001b[0;32m    640\u001b[0m                 \u001b[0merrors\u001b[0m \u001b[1;33m=\u001b[0m \u001b[1;34m\"replace\"\u001b[0m\u001b[1;33m\u001b[0m\u001b[1;33m\u001b[0m\u001b[0m\n\u001b[0;32m    641\u001b[0m             \u001b[1;31m# Encoding\u001b[0m\u001b[1;33m\u001b[0m\u001b[1;33m\u001b[0m\u001b[1;33m\u001b[0m\u001b[0m\n\u001b[1;32m--> 642\u001b[1;33m             handle = open(\n\u001b[0m\u001b[0;32m    643\u001b[0m                 \u001b[0mhandle\u001b[0m\u001b[1;33m,\u001b[0m\u001b[1;33m\u001b[0m\u001b[1;33m\u001b[0m\u001b[0m\n\u001b[0;32m    644\u001b[0m                 \u001b[0mioargs\u001b[0m\u001b[1;33m.\u001b[0m\u001b[0mmode\u001b[0m\u001b[1;33m,\u001b[0m\u001b[1;33m\u001b[0m\u001b[1;33m\u001b[0m\u001b[0m\n",
      "\u001b[1;31mFileNotFoundError\u001b[0m: [Errno 2] No such file or directory: 'submission.csv'"
     ]
    }
   ],
   "source": [
    "submission = pd.read_csv('submission.csv', encoding='CP949')"
   ]
  },
  {
   "cell_type": "code",
   "execution_count": null,
   "id": "d3e555f2",
   "metadata": {
    "scrolled": true
   },
   "outputs": [],
   "source": [
    "result = pd.DataFrame()\n",
    "result[0] = predict\n",
    "submission['우범여부'] = result[0]\n",
    "submission.to_csv('submission_result.csv', index=False, encoding='utf-8-sig')"
   ]
  }
 ],
 "metadata": {
  "kernelspec": {
   "display_name": "Python 3",
   "language": "python",
   "name": "python3"
  },
  "language_info": {
   "codemirror_mode": {
    "name": "ipython",
    "version": 3
   },
   "file_extension": ".py",
   "mimetype": "text/x-python",
   "name": "python",
   "nbconvert_exporter": "python",
   "pygments_lexer": "ipython3",
   "version": "3.8.8"
  }
 },
 "nbformat": 4,
 "nbformat_minor": 5
}
